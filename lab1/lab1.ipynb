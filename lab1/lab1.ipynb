{
 "cells": [
  {
   "cell_type": "markdown",
   "metadata": {},
   "source": [
    "**資科工碩 0756110 李東霖**"
   ]
  },
  {
   "cell_type": "markdown",
   "metadata": {},
   "source": [
    "# Introduction\n",
    "\n",
    "\n",
    "In this lab, we need to implement NN and back propagation\n",
    "\n",
    "Some request:\n",
    "\n",
    "- Write a simple neural networks without framework (e.g. Tensorflow, PyTorch)\n",
    "- Only use Numpy and other standard lib\n",
    "- NN with two hidden layers\n",
    "- Plot your comparison figure that show the predict result and ground truth\n",
    "\n",
    "## Implementation\n",
    "\n",
    "- $X$,$\\hat{y}$ : Data\n",
    "- $x_1$,$x_2$ : NN inputs\n",
    "- $y$ : NN output\n",
    "- $L(\\theta)$ : Lost function (MSE $E(|\\hat{y} - y|^2)$)\n",
    "- $W$ : weight matrix\n",
    "- $\\sigma$ : activation function (sigmoid $\\frac{1}{1+e^{-x}}$)"
   ]
  },
  {
   "cell_type": "code",
   "execution_count": 1,
   "metadata": {},
   "outputs": [],
   "source": [
    "import numpy as np\n",
    "import matplotlib.pyplot as plt\n",
    "from matplotlib.colors import LinearSegmentedColormap"
   ]
  },
  {
   "cell_type": "markdown",
   "metadata": {},
   "source": [
    "## Dataset\n",
    "\n",
    "We have two data generator\n",
    "\n",
    "- Linear\n",
    "- XOR\n",
    "\n",
    "Target y is 0 or 1, just like one class classification."
   ]
  },
  {
   "cell_type": "code",
   "execution_count": 2,
   "metadata": {},
   "outputs": [],
   "source": [
    "def show_result(x, y, pred_y):\n",
    "    cm = LinearSegmentedColormap.from_list(\n",
    "        'mymap', [(1, 0, 0), (0, 0, 1)], N=2)\n",
    "    plt.figure(figsize=(10,5))\n",
    "    plt.subplot(1,2,1)\n",
    "    plt.title('Ground truth', fontsize=18)\n",
    "    plt.scatter(x[:,0], x[:,1], c=y[:,0], cmap=cm)\n",
    "    \n",
    "    plt.subplot(1,2,2)\n",
    "    plt.title('Predict result', fontsize=18)\n",
    "    plt.scatter(x[:,0], x[:,1], c=pred_y[:,0], cmap=cm)\n",
    "    \n",
    "    plt.show()\n",
    "    \n",
    "def show_data(xs, ys, ts):\n",
    "    cm = LinearSegmentedColormap.from_list(\n",
    "        'mymap', [(1, 0, 0), (0, 0, 1)], N=2)\n",
    "    n = len(xs)\n",
    "    plt.figure(figsize=(5*n, 5))\n",
    "    for i, x, y, t in zip(range(n), xs, ys, ts):\n",
    "        plt.subplot(1,n, i+1)\n",
    "        plt.title(t, fontsize=18)\n",
    "        plt.scatter(x[:,0], x[:,1], c=y[:,0], cmap=cm)\n",
    "    \n",
    "    plt.show()"
   ]
  },
  {
   "cell_type": "code",
   "execution_count": 3,
   "metadata": {},
   "outputs": [
    {
     "data": {
      "image/png": "[encoded data removed]",
      "text/plain": [
       "<Figure size 720x360 with 2 Axes>"
      ]
     },
     "metadata": {
      "needs_background": "light"
     },
     "output_type": "display_data"
    }
   ],
   "source": [
    "def generate_linear(n=100):\n",
    "    pts = np.random.uniform(0, 1, (n, 2))\n",
    "    inputs = []\n",
    "    labels = []\n",
    "    for pt in pts:\n",
    "        inputs.append([pt[0], pt[1]])\n",
    "        distance = (pt[0] - pt[1]) / 1.414\n",
    "        if pt[0] > pt[1]:\n",
    "            labels.append(0)\n",
    "        else:\n",
    "            labels.append(1)\n",
    "    return np.array(inputs), np.array(labels).reshape(n, 1)\n",
    "\n",
    "def generate_XOR_easy(n=11):\n",
    "    inputs = []\n",
    "    labels = []\n",
    "    step = 1/(n-1)\n",
    "    for i in range(n):\n",
    "        inputs.append([step*i, step*i])\n",
    "        labels.append(0)\n",
    "        \n",
    "        if i == int((n-1)/2):\n",
    "            continue\n",
    "        \n",
    "        inputs.append([step*i, 1 - step*i])\n",
    "        labels.append(1)\n",
    "        \n",
    "    return np.array(inputs), np.array(labels).reshape(n*2 - 1,1)\n",
    "\n",
    "x1, y1 = generate_linear()\n",
    "x2, y2 = generate_XOR_easy()\n",
    "show_data([x1,x2], [y1,y2], ['Linear Data', 'XOR Data'])"
   ]
  },
  {
   "cell_type": "markdown",
   "metadata": {},
   "source": [
    "# Experiment setups"
   ]
  },
  {
   "cell_type": "markdown",
   "metadata": {},
   "source": [
    "## Activate function $\\sigma$ (Sigmoid)\n",
    "\n",
    "In this lab, I use Sigmoid function as my activate function\n",
    "\n",
    "$$ \\sigma(x) = \\frac{1}{1 + e^{-x}} $$\n",
    "\n",
    "$$ \\sigma'(x) = \\frac{d (1 + e^{-x})^{-1}}{d x} $$\n",
    "\n",
    "$$ = - (1 + e^{-x})^2 \\frac{d}{dx} (1 + e^{-x}) $$\n",
    "\n",
    "$$ = - (1 + e^{-x})(1 + e^{-x}) (-e^{-x}) $$\n",
    "\n",
    "$$ = \\sigma(x)(1 - \\sigma(x))$$\n",
    "\n",
    "implement reference from TAs."
   ]
  },
  {
   "cell_type": "code",
   "execution_count": 4,
   "metadata": {},
   "outputs": [],
   "source": [
    "def sigmoid(x):\n",
    "    return 1.0 / (1.0 + np.exp(-x))\n",
    "\n",
    "def derivative_sigmoid(x):\n",
    "    return np.multiply(x, 1.0 - x)"
   ]
  },
  {
   "cell_type": "code",
   "execution_count": 5,
   "metadata": {},
   "outputs": [
    {
     "data": {
      "text/plain": [
       "<matplotlib.legend.Legend at 0x7fa002340ba8>"
      ]
     },
     "execution_count": 5,
     "metadata": {},
     "output_type": "execute_result"
    },
    {
     "data": {
      "image/png": "[encoded data removed]",
      "text/plain": [
       "<Figure size 432x288 with 1 Axes>"
      ]
     },
     "metadata": {
      "needs_background": "light"
     },
     "output_type": "display_data"
    }
   ],
   "source": [
    "x = np.linspace(-7.5, 7.5, 100)\n",
    "plt.plot(x, sigmoid(x), label='sigmoid')\n",
    "plt.plot(x, derivative_sigmoid(sigmoid(x)), label='d sigmoid')\n",
    "plt.legend()"
   ]
  },
  {
   "cell_type": "markdown",
   "metadata": {},
   "source": [
    "## Loss function $L(\\theta)$ (MSE)\n",
    "\n",
    "In this lab, I use MSE (Mean Square Error) as my loss function.\n",
    "\n",
    "$$ L(y, \\hat{y}) = MSE(y,\\hat(y)) = E((y - \\hat{y})^2) = \\frac{\\sum (y - \\hat{y})^2}{N} $$\n",
    "\n",
    "$$ L'(y, \\hat{y}) = \\frac{\\partial E((y - \\hat{y})^2)}{\\partial y} $$\n",
    "\n",
    "$$ = \\frac{1}{N}(\\frac{\\partial (y - \\hat{y})^2}{\\partial y}) $$\n",
    "\n",
    "$$ = \\frac{1}{N}(2(y - \\hat{y})\\frac{\\partial (y - \\hat{y})}{\\partial y}) $$\n",
    "\n",
    "$$ = \\frac{2}{N}(y - \\hat{y})$$"
   ]
  },
  {
   "cell_type": "code",
   "execution_count": 6,
   "metadata": {},
   "outputs": [],
   "source": [
    "def loss(y, y_hat):\n",
    "    return np.mean((y - y_hat)**2)\n",
    "    \n",
    "def derivative_loss(y, y_hat):\n",
    "    return (y - y_hat)*(2/y.shape[0])"
   ]
  },
  {
   "cell_type": "markdown",
   "metadata": {},
   "source": [
    "## Neural network\n",
    "\n",
    "### Neural Unit\n",
    "\n",
    "Our input $x$ vector get output $y$ scalar through neural unit \n",
    "\n",
    "$z=w^Tx+b, y=\\sigma(z)$\n",
    "\n",
    "Now extend neural unit as neural layer"
   ]
  },
  {
   "cell_type": "markdown",
   "metadata": {},
   "source": [
    "### Neural Layer\n",
    "\n",
    "One neural unit can output one scalar.\n",
    "So if we want to output N scalar in this layer, we just put N units in layer.\n",
    "\n",
    "explain some parameter in layer:\n",
    "\n",
    "$w$ : weight matrix\n",
    "\n",
    "- size is (input_size + 1, output_size)\n",
    "\n",
    "- initialize $w$ in layer's `__init__`\n",
    "\n",
    "- combine bias in $w$\n",
    "\n",
    "$x$ : input vector\n",
    "\n",
    "- size is (data_size, input_size)\n",
    "\n",
    "- $x'$ automatically extend one columns for bias when `forward`\n",
    "\n",
    "$z$ : $z = x'w$\n",
    "\n",
    "- size is (data_size, output_size)\n",
    "\n",
    "$y$ : $y = \\sigma(z)$\n",
    "\n",
    "- network output when output layer\n",
    "\n",
    "- next layer input when hidden layer\n",
    "\n",
    "$\\frac{\\partial C}{\\partial w}, \\frac{\\partial z}{\\partial w}, \\frac{\\partial C}{\\partial z}$ : gradient matrix\n",
    "\n",
    "- there are stored into layer parameter\n",
    "\n",
    "- use to update $w$ when call `update`\n",
    "\n",
    "Now, we see how to compute gradient from cost by using backpropagation"
   ]
  },
  {
   "cell_type": "markdown",
   "metadata": {},
   "source": [
    "## Backpropagation\n",
    "\n",
    "In the begining, all weight parameters in network are randomly initial.\n",
    "And we want to minimize cost $C$ from loss function $L(\\theta)$.\n",
    "\n",
    "\n",
    "So we use gradient descent to update network's weights.\n",
    "But $\\frac{\\partial C}{\\partial w}$ is hard to compute.\n",
    "\n",
    "Because of that, we use chain rules.\n",
    "\n",
    "$$\\frac{\\partial C}{\\partial w} = \\frac{\\partial z}{\\partial w}\\frac{\\partial C}{\\partial z}$$\n",
    "\n",
    "### Forward\n",
    "\n",
    "$$\\frac{\\partial z}{\\partial w} = \\frac{\\partial x'w}{\\partial w} = x'$$\n",
    "\n",
    "So we can record $\\frac{\\partial z}{\\partial w}$ as `forward_gradient` when call `forward`\n",
    "\n",
    "And matrix size = (data_size, input_size+1)\n",
    "\n",
    "### Backward\n",
    "\n",
    "$$\\frac{\\partial C}{\\partial z} = \\frac{\\partial y}{\\partial z}\\frac{\\partial C}{\\partial y}$$\n",
    "\n",
    "we can get $\\frac{\\partial y}{\\partial z}$ by:\n",
    "\n",
    "$$y = \\sigma(z), \\space \\frac{\\partial y}{\\partial z}=\\sigma'(z)$$\n",
    "\n",
    "We need to consider two case\n",
    "\n",
    "- output layer:\n",
    "\n",
    "we know $C$ is come from $L(\\theta)$\n",
    "$y$ is network output and $\\hat{y}$ is groundtruth\n",
    "\n",
    "$$ C = L(y, \\hat{y}) \\\\ \\frac{\\partial C}{\\partial y} = L'(y, \\hat{y}) $$\n",
    "\n",
    "we need to compute derivative loss function and then use it as backward input.\n",
    "\n",
    "- hidden layer:\n",
    "\n",
    "$\\frac{\\partial C}{\\partial y}$ is more diffcult than other.\n",
    "\n",
    "we know that this layer output $y$ will be input for next layer.\n",
    "and we assume that $\\frac{\\partial C}{\\partial z_{next}}$ already know.\n",
    "\n",
    "$$\\frac{\\partial C}{\\partial y_{this}} = \\frac{\\partial z_{next}}{\\partial y_{this}}\\frac{\\partial C}{\\partial z_{next}} $$\n",
    "\n",
    "$$ \\frac{\\partial z_{next}}{\\partial y_{this}} = w_{next}^T , z_{next} = y_{this}w_{next}$$\n",
    "\n",
    "Finally, we first compute output layer and then send parameters to previous layer.\n",
    "Thus we can compute $\\frac{\\partial C}{\\partial z}$ every layer.\n",
    "\n",
    "## Gradient Descent\n",
    "\n",
    "Now we have $\\frac{\\partial C}{\\partial w}$ and use it to update our network weights $w$.\n",
    "\n",
    "we can put a new hyperparameter called learning rate $\\eta$ to decide how fast\n",
    "\n",
    "$$ w = w - \\eta \\Delta w$$"
   ]
  },
  {
   "cell_type": "markdown",
   "metadata": {},
   "source": [
    "## implementation\n",
    "\n",
    "I design a python class called `layer`.\n",
    "`layer` will initialize all weights when create python class.\n",
    "Every `layer` need two parameter `input_size` and `output_size`.\n",
    "\n",
    "- `forward` function input $x$ and get output $y$.\n",
    "\n",
    "- `backward` function input $\\frac{\\partial C}{\\partial y}$ and get output $\\frac{\\partial C}{\\partial x}$\n",
    "\n",
    "- `update` function use gradient to update layer's weights"
   ]
  },
  {
   "cell_type": "code",
   "execution_count": 7,
   "metadata": {},
   "outputs": [],
   "source": [
    "class layer():\n",
    "    def __init__(self, input_size, output_size):\n",
    "        self.w = np.random.normal(0, 1, (input_size+1, output_size))\n",
    "        \n",
    "    def forward(self, x):\n",
    "        x = np.append(x, np.ones((x.shape[0],1)), axis=1)\n",
    "        self.forward_gradient = x\n",
    "        self.y = sigmoid(np.matmul(x, self.w))\n",
    "        return self.y\n",
    "    \n",
    "    def backward(self, derivative_C):\n",
    "        self.backward_gradient = np.multiply(\n",
    "            derivative_sigmoid(self.y), \n",
    "            derivative_C\n",
    "        )\n",
    "        return np.matmul(self.backward_gradient, self.w[:-1].T) \n",
    "\n",
    "    def update(self, learning_rate):\n",
    "        self.gradient = np.matmul(\n",
    "            self.forward_gradient.T, \n",
    "            self.backward_gradient\n",
    "        )\n",
    "        self.w -= learning_rate*self.gradient\n",
    "        return self.gradient"
   ]
  },
  {
   "cell_type": "markdown",
   "metadata": {},
   "source": [
    "Now I can combine multi layers become Neural Network\n",
    "\n",
    "I design a python class called `NN`. `NN` will create layers by `size` when create it.\n",
    "\n",
    "- `forward` function positive sequence call all layer's `forward`, return final result\n",
    "\n",
    "- `backward` function reverse call all layer's `backward`, return final result\n",
    "\n",
    "- `update` function call all layer's `update`"
   ]
  },
  {
   "cell_type": "code",
   "execution_count": 8,
   "metadata": {},
   "outputs": [],
   "source": [
    "class NN():\n",
    "    def __init__(self, sizes, learning_rate = 0.1):\n",
    "        self.learning_rate = learning_rate\n",
    "        sizes2 = sizes[1:] + [0]\n",
    "        self.l = []\n",
    "        for a,b in zip(sizes, sizes2):\n",
    "            if (a+1)*b == 0:\n",
    "                continue\n",
    "            self.l += [layer(a,b)]\n",
    "            \n",
    "    def forward(self, x):\n",
    "        _x = x\n",
    "        for l in self.l:\n",
    "            _x = l.forward(_x)\n",
    "        return _x\n",
    "    \n",
    "    def backward(self, dC):\n",
    "        _dC = dC\n",
    "        for l in self.l[::-1]:\n",
    "            _dC = l.backward(_dC)\n",
    "            \n",
    "    def update(self):\n",
    "        gradients = []\n",
    "        for l in self.l:\n",
    "            gradients += [l.update(self.learning_rate)]\n",
    "        return gradients"
   ]
  },
  {
   "cell_type": "markdown",
   "metadata": {},
   "source": [
    "# Results of your testing"
   ]
  },
  {
   "cell_type": "code",
   "execution_count": 13,
   "metadata": {},
   "outputs": [
    {
     "name": "stdout",
     "output_type": "stream",
     "text": [
      "[   0] linear loss : 0.3835 \t XOR loss : 0.2512\n",
      "[ 200] linear loss : 0.1824 \t XOR loss : 0.2461\n",
      "[ 400] linear loss : 0.0497 \t XOR loss : 0.2360\n",
      "[ 600] linear loss : 0.0287 \t XOR loss : 0.2179\n",
      "[ 800] linear loss : 0.0210 \t XOR loss : 0.2035\n",
      "[1000] linear loss : 0.0169 \t XOR loss : 0.1885\n",
      "[1200] linear loss : 0.0144 \t XOR loss : 0.1131\n",
      "[1400] linear loss : 0.0127 \t XOR loss : 0.0459\n",
      "[1600] linear loss : 0.0115 \t XOR loss : 0.0226\n",
      "[1800] linear loss : 0.0105 \t XOR loss : 0.0124\n",
      "[2000] linear loss : 0.0098 \t XOR loss : 0.0077\n",
      "[2200] linear loss : 0.0092 \t XOR loss : 0.0053\n",
      "XOR is covergence\n",
      "[2400] linear loss : 0.0087 \t XOR loss : 0.0050\n",
      "[2600] linear loss : 0.0083 \t XOR loss : 0.0050\n",
      "[2800] linear loss : 0.0079 \t XOR loss : 0.0050\n",
      "[3000] linear loss : 0.0076 \t XOR loss : 0.0050\n",
      "[3200] linear loss : 0.0073 \t XOR loss : 0.0050\n",
      "[3400] linear loss : 0.0070 \t XOR loss : 0.0050\n",
      "[3600] linear loss : 0.0068 \t XOR loss : 0.0050\n",
      "[3800] linear loss : 0.0065 \t XOR loss : 0.0050\n",
      "[4000] linear loss : 0.0063 \t XOR loss : 0.0050\n",
      "[4200] linear loss : 0.0061 \t XOR loss : 0.0050\n",
      "[4400] linear loss : 0.0059 \t XOR loss : 0.0050\n",
      "[4600] linear loss : 0.0057 \t XOR loss : 0.0050\n",
      "[4800] linear loss : 0.0054 \t XOR loss : 0.0050\n",
      "[5000] linear loss : 0.0052 \t XOR loss : 0.0050\n",
      "[5200] linear loss : 0.0051 \t XOR loss : 0.0050\n",
      "linear is covergence\n",
      "[5254] linear loss : 0.0050 \t XOR loss : 0.0050\n"
     ]
    }
   ],
   "source": [
    "nn_linear = NN([2,4,4,1], 1)\n",
    "nn_XOR = NN([2,4,4,1], 1)\n",
    "epoch_count = 10000\n",
    "loss_threshold = 0.005\n",
    "linear_stop = False\n",
    "XOR_stop = False\n",
    "x_linear, y_linear = generate_linear()\n",
    "x_XOR, y_XOR = generate_XOR_easy()\n",
    "for i in range(epoch_count):\n",
    "    if not linear_stop:\n",
    "        y = nn_linear.forward(x_linear)\n",
    "        loss_linear = loss(y, y_linear)\n",
    "        nn_linear.backward(derivative_loss(y, y_linear))\n",
    "        nn_linear.update()\n",
    "        \n",
    "        if loss_linear < loss_threshold:\n",
    "            print('linear is covergence')\n",
    "            linear_stop = True\n",
    "    \n",
    "    if not XOR_stop:\n",
    "        y = nn_XOR.forward(x_XOR)\n",
    "        loss_XOR = loss(y, y_XOR)\n",
    "        nn_XOR.backward(derivative_loss(y, y_XOR))\n",
    "        nn_XOR.update()\n",
    "        \n",
    "        if loss_XOR < loss_threshold:\n",
    "            print('XOR is covergence')\n",
    "            XOR_stop = True\n",
    "\n",
    "    if i%200 == 0 or (linear_stop and XOR_stop):\n",
    "        print(\n",
    "            '[{:4d}] linear loss : {:.4f} \\t XOR loss : {:.4f}'.format(\n",
    "                i, loss_linear, loss_XOR))\n",
    "        \n",
    "    if linear_stop and XOR_stop:\n",
    "        break"
   ]
  },
  {
   "cell_type": "code",
   "execution_count": 14,
   "metadata": {},
   "outputs": [
    {
     "data": {
      "image/png": "[encoded data removed]",
      "text/plain": [
       "<Figure size 720x360 with 2 Axes>"
      ]
     },
     "metadata": {
      "needs_background": "light"
     },
     "output_type": "display_data"
    },
    {
     "name": "stdout",
     "output_type": "stream",
     "text": [
      "linear test loss :  0.004998301926023007\n"
     ]
    },
    {
     "data": {
      "image/png": "[encoded data removed]",
      "text/plain": [
       "<Figure size 720x360 with 2 Axes>"
      ]
     },
     "metadata": {
      "needs_background": "light"
     },
     "output_type": "display_data"
    },
    {
     "name": "stdout",
     "output_type": "stream",
     "text": [
      "XOR test loss :  0.004984722899437262\n",
      "\n",
      " linear test result : \n",
      " [[0.00127438]\n",
      " [0.99963048]\n",
      " [0.00110397]\n",
      " [0.99967442]\n",
      " [0.00244083]\n",
      " [0.99963929]\n",
      " [0.9987874 ]\n",
      " [0.00140453]\n",
      " [0.00131287]\n",
      " [0.00150334]\n",
      " [0.99956104]\n",
      " [0.99895211]\n",
      " [0.67410639]\n",
      " [0.99927398]\n",
      " [0.00112912]\n",
      " [0.98738375]\n",
      " [0.97859111]\n",
      " [0.99943916]\n",
      " [0.99844841]\n",
      " [0.99937749]\n",
      " [0.99902285]\n",
      " [0.00121178]\n",
      " [0.99881502]\n",
      " [0.00108736]\n",
      " [0.00163561]\n",
      " [0.9346675 ]\n",
      " [0.00543449]\n",
      " [0.01082715]\n",
      " [0.99968211]\n",
      " [0.00730359]\n",
      " [0.99942062]\n",
      " [0.99877801]\n",
      " [0.0011435 ]\n",
      " [0.00111643]\n",
      " [0.99923101]\n",
      " [0.99773533]\n",
      " [0.99365109]\n",
      " [0.00146336]\n",
      " [0.99960882]\n",
      " [0.00135928]\n",
      " [0.2934638 ]\n",
      " [0.00129483]\n",
      " [0.99946953]\n",
      " [0.09278763]\n",
      " [0.82878393]\n",
      " [0.00112694]\n",
      " [0.00127975]\n",
      " [0.00120702]\n",
      " [0.00291165]\n",
      " [0.99968023]\n",
      " [0.99961166]\n",
      " [0.99935175]\n",
      " [0.99955449]\n",
      " [0.00110964]\n",
      " [0.00126752]\n",
      " [0.9991323 ]\n",
      " [0.00111803]\n",
      " [0.99939436]\n",
      " [0.99962201]\n",
      " [0.00122198]\n",
      " [0.02690406]\n",
      " [0.00112542]\n",
      " [0.39744108]\n",
      " [0.99961734]\n",
      " [0.99966773]\n",
      " [0.05587581]\n",
      " [0.00154267]\n",
      " [0.00150998]\n",
      " [0.00317554]\n",
      " [0.99947727]\n",
      " [0.00494795]\n",
      " [0.00215899]\n",
      " [0.99964369]\n",
      " [0.68546723]\n",
      " [0.02156635]\n",
      " [0.99842914]\n",
      " [0.00559345]\n",
      " [0.00526649]\n",
      " [0.00125945]\n",
      " [0.02088807]\n",
      " [0.98882897]\n",
      " [0.99862005]\n",
      " [0.00110082]\n",
      " [0.00158562]\n",
      " [0.00122363]\n",
      " [0.00126444]\n",
      " [0.01860277]\n",
      " [0.99954892]\n",
      " [0.00110318]\n",
      " [0.01020721]\n",
      " [0.99950236]\n",
      " [0.99964959]\n",
      " [0.00424223]\n",
      " [0.98935269]\n",
      " [0.03530341]\n",
      " [0.99945057]\n",
      " [0.99966074]\n",
      " [0.99952167]\n",
      " [0.97406166]\n",
      " [0.00111279]]\n",
      "\n",
      " XOR test result : \n",
      " [[0.06823995]\n",
      " [0.99178587]\n",
      " [0.06777908]\n",
      " [0.99120513]\n",
      " [0.06743711]\n",
      " [0.98941854]\n",
      " [0.06720555]\n",
      " [0.98084773]\n",
      " [0.06707543]\n",
      " [0.82957466]\n",
      " [0.06703769]\n",
      " [0.06708346]\n",
      " [0.85767423]\n",
      " [0.06720427]\n",
      " [0.96107665]\n",
      " [0.06739225]\n",
      " [0.96658707]\n",
      " [0.06764024]\n",
      " [0.96769416]\n",
      " [0.06794189]\n",
      " [0.96804362]]\n"
     ]
    }
   ],
   "source": [
    "y1 = nn_linear.forward(x_linear)\n",
    "show_result(x_linear, y_linear, y1)\n",
    "print('linear test loss : ', loss(y1, y_linear))\n",
    "y2 = nn_XOR.forward(x_XOR)\n",
    "show_result(x_XOR, y_XOR, y2)\n",
    "print('XOR test loss : ', loss(y2, y_XOR))\n",
    "print('\\n linear test result : \\n',y1)\n",
    "print('\\n XOR test result : \\n',y2)"
   ]
  },
  {
   "cell_type": "code",
   "execution_count": null,
   "metadata": {},
   "outputs": [],
   "source": []
  }
 ],
 "metadata": {
  "kernelspec": {
   "display_name": "Python 3",
   "language": "python",
   "name": "python3"
  },
  "language_info": {
   "codemirror_mode": {
    "name": "ipython",
    "version": 3
   },
   "file_extension": ".py",
   "mimetype": "text/x-python",
   "name": "python",
   "nbconvert_exporter": "python",
   "pygments_lexer": "ipython3",
   "version": "3.6.6"
  }
 },
 "nbformat": 4,
 "nbformat_minor": 2
}
