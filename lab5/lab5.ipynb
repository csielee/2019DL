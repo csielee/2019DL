{
 "cells": [
  {
   "cell_type": "code",
   "execution_count": 287,
   "metadata": {},
   "outputs": [],
   "source": [
    "from __future__ import unicode_literals, print_function, division\n",
    "from io import open\n",
    "import unicodedata\n",
    "import string\n",
    "import re\n",
    "import random\n",
    "import time\n",
    "import os\n",
    "import math\n",
    "import json\n",
    "import torch\n",
    "import torch.nn as nn\n",
    "from torch import optim\n",
    "import torch.nn.functional as F\n",
    "from torch.utils.data import Dataset, DataLoader\n",
    "import matplotlib.pyplot as plt\n",
    "#plt.switch_backend('agg')\n",
    "import matplotlib.ticker as ticker\n",
    "import numpy as np\n",
    "import pandas as pd\n",
    "from nltk.translate.bleu_score import SmoothingFunction, sentence_bleu"
   ]
  },
  {
   "cell_type": "code",
   "execution_count": 2,
   "metadata": {},
   "outputs": [],
   "source": [
    "device = torch.device(\"cuda\" if torch.cuda.is_available() else \"cpu\")"
   ]
  },
  {
   "cell_type": "code",
   "execution_count": 106,
   "metadata": {},
   "outputs": [],
   "source": [
    "def __save_model(model_name, model, root):\n",
    "    if not os.path.isdir(root):\n",
    "        os.mkdir(root)\n",
    "    p = os.path.join(root, '{}-params.pkl'.format(model_name))\n",
    "    torch.save(model.state_dict(), p)\n",
    "    return p\n",
    "\n",
    "def save_model(models, root='./model'):\n",
    "    p = {}\n",
    "    for k, m in models.items():\n",
    "        p[k] = __save_model(k, m, root)\n",
    "    return p\n",
    "\n",
    "def __load_model(model_name, model, root):\n",
    "    p = os.path.join(root, '{}-params.pkl'.format(model_name))\n",
    "    if not os.path.isfile(p):\n",
    "        msg = \"No model parameters file for {}!\".format(model_name)\n",
    "        return print(msg)\n",
    "        raise AttributeError(msg)\n",
    "    paras = torch.load(p)\n",
    "    model.load_state_dict(paras)\n",
    "\n",
    "def load_model(models, root='./model'):\n",
    "    for k, m in models.items():\n",
    "        __load_model(k, m, root)\n",
    "        \n",
    "def save_model_by_score(models, bleu_score, root):\n",
    "    p = os.path.join(root, 'score.json')\n",
    "    previous = None\n",
    "    \n",
    "    if np.isnan(bleu_score):\n",
    "        raise AttributeError(\"BLEU score become {}\".format(bleu_score))\n",
    "        return\n",
    "    \n",
    "    if os.path.isfile(p):\n",
    "        with open(p, 'r') as f:\n",
    "            previous = json.load(f)\n",
    "            \n",
    "    if previous is not None and previous['score'] > bleu_score:\n",
    "        return;\n",
    "    \n",
    "    save_model(models, root)\n",
    "    previous = {'score' : bleu_score}\n",
    "    with open(p, 'w') as f:\n",
    "        json.dump(previous, f)"
   ]
  },
  {
   "cell_type": "code",
   "execution_count": 112,
   "metadata": {},
   "outputs": [],
   "source": [
    "class CharDict:\n",
    "    def __init__(self):\n",
    "        self.word2index = {}\n",
    "        self.index2word = {}\n",
    "        self.n_words = 0\n",
    "        \n",
    "        for i in range(26):\n",
    "            self.addWord(chr(ord('a') + i))\n",
    "        \n",
    "        tokens = [\"SOS\", \"EOS\"]\n",
    "        for t in tokens:\n",
    "            self.addWord(t)\n",
    "\n",
    "    def addWord(self, word):\n",
    "        if word not in self.word2index:\n",
    "            self.word2index[word] = self.n_words\n",
    "            self.index2word[self.n_words] = word\n",
    "            self.n_words += 1\n",
    "\n",
    "    def longtensorFromString(self, s):\n",
    "        s = [\"SOS\"] + list(s) + [\"EOS\"]\n",
    "        return torch.LongTensor([self.word2index[ch] for ch in s])\n",
    "    \n",
    "    def stringFromLongtensor(self, l, show_token=False, check_end=True):\n",
    "        s = \"\"\n",
    "        for i in l:\n",
    "            ch = self.index2word[i.item()]\n",
    "            if len(ch) > 1:\n",
    "                if show_token:\n",
    "                    __ch = \"<{}>\".format(ch)\n",
    "                else:\n",
    "                    __ch = \"\"\n",
    "            else:\n",
    "                __ch = ch\n",
    "            s += __ch\n",
    "            if check_end and ch == \"EOS\":\n",
    "                break\n",
    "        return s\n",
    "\n",
    "class wordsDataset(Dataset):\n",
    "    def __init__(self, train=True):\n",
    "        if train:\n",
    "            f = './train.txt'\n",
    "        else:\n",
    "            f = './test.txt'\n",
    "        self.datas = np.loadtxt(f, dtype=np.str)\n",
    "        \n",
    "        if train:\n",
    "            self.datas = self.datas.reshape(-1)\n",
    "        else:\n",
    "            '''\n",
    "            sp -> p\n",
    "            sp -> pg\n",
    "            sp -> tp\n",
    "            sp -> tp\n",
    "            p  -> tp\n",
    "            sp -> pg\n",
    "            p  -> sp\n",
    "            pg -> sp\n",
    "            pg -> p\n",
    "            pg -> tp\n",
    "            '''\n",
    "            self.targets = np.array([\n",
    "                [0, 3],\n",
    "                [0, 2],\n",
    "                [0, 1],\n",
    "                [0, 1],\n",
    "                [3, 1],\n",
    "                [0, 2],\n",
    "                [3, 0],\n",
    "                [2, 0],\n",
    "                [2, 3],\n",
    "                [2, 1],\n",
    "            ])\n",
    "        \n",
    "        #self.tenses = ['sp', 'tp', 'pg', 'p']\n",
    "        self.tenses = [\n",
    "            'simple-present', \n",
    "            'third-person', \n",
    "            'present-progressive', \n",
    "            'simple-past'\n",
    "        ]\n",
    "        self.chardict = CharDict()\n",
    "        \n",
    "        self.train = train\n",
    "    \n",
    "    def __len__(self):\n",
    "        return len(self.datas)\n",
    "    \n",
    "    def __getitem__(self, index):\n",
    "        if self.train:\n",
    "            c = index % len(self.tenses)\n",
    "            return self.chardict.longtensorFromString(self.datas[index]), c\n",
    "        else:\n",
    "            i = self.chardict.longtensorFromString(self.datas[index, 0])\n",
    "            ci = self.targets[index, 0]\n",
    "            o = self.chardict.longtensorFromString(self.datas[index, 1])\n",
    "            co = self.targets[index, 1]\n",
    "            \n",
    "            return i, ci, o, co"
   ]
  },
  {
   "cell_type": "code",
   "execution_count": 5,
   "metadata": {},
   "outputs": [],
   "source": [
    "#Encoder\n",
    "class EncoderRNN(nn.Module):\n",
    "    def __init__(\n",
    "        self, word_size, hidden_size, latent_size, \n",
    "        num_condition, condition_size\n",
    "    ):\n",
    "        super(EncoderRNN, self).__init__()\n",
    "        self.word_size = word_size\n",
    "        self.hidden_size = hidden_size\n",
    "        self.condition_size = condition_size\n",
    "        self.latent_size = latent_size\n",
    "\n",
    "        self.condition_embedding = nn.Embedding(num_condition, condition_size)\n",
    "        self.word_embedding = nn.Embedding(word_size, hidden_size)\n",
    "        self.gru = nn.GRU(hidden_size, hidden_size)\n",
    "        self.mean = nn.Linear(hidden_size, latent_size)\n",
    "        self.logvar = nn.Linear(hidden_size, latent_size)\n",
    "\n",
    "    def forward(self, inputs, init_hidden, input_condition):\n",
    "        c = self.condition(input_condition)\n",
    "        \n",
    "        # get (1,1,hidden_size)\n",
    "        hidden = torch.cat((init_hidden, c), dim=2)\n",
    "        \n",
    "        # get (seq, 1, hidden_size)\n",
    "        x = self.word_embedding(inputs).view(-1, 1, self.hidden_size)\n",
    "        \n",
    "        # get (seq, 1, hidden_size), (1, 1, hidden_size)\n",
    "        outputs, hidden = self.gru(x, hidden)\n",
    "        \n",
    "        # get (1, 1, hidden_size)\n",
    "        m = self.mean(hidden)\n",
    "        logvar = self.logvar(hidden)\n",
    "        \n",
    "        z = self.sample_z() * torch.exp(logvar/2) + m\n",
    "        \n",
    "        #self.m = m\n",
    "        #self.logvar = logvar\n",
    "        \n",
    "        return z, m, logvar\n",
    "\n",
    "    def initHidden(self):\n",
    "        return torch.zeros(\n",
    "            1, 1, self.hidden_size - self.condition_size, \n",
    "            device=device\n",
    "        )\n",
    "    \n",
    "    def condition(self, c):\n",
    "        c = torch.LongTensor([c]).to(device)\n",
    "        return self.condition_embedding(c).view(1,1,-1)\n",
    "    \n",
    "    def sample_z(self):\n",
    "        return torch.normal(\n",
    "            torch.FloatTensor([0]*self.latent_size), \n",
    "            torch.FloatTensor([1]*self.latent_size)\n",
    "        ).to(device)"
   ]
  },
  {
   "cell_type": "markdown",
   "metadata": {},
   "source": [
    "# Teacher forcing"
   ]
  },
  {
   "cell_type": "code",
   "execution_count": 150,
   "metadata": {},
   "outputs": [
    {
     "data": {
      "text/plain": [
       "tensor([4])"
      ]
     },
     "execution_count": 150,
     "metadata": {},
     "output_type": "execute_result"
    }
   ],
   "source": [
    "torch.max(torch.softmax(torch.randn(1,28), dim=1), 1)[1]"
   ]
  },
  {
   "cell_type": "code",
   "execution_count": 157,
   "metadata": {},
   "outputs": [],
   "source": [
    "#Decoder\n",
    "class DecoderRNN(nn.Module):\n",
    "    def __init__(\n",
    "        self, word_size, hidden_size, latent_size, condition_size\n",
    "    ):\n",
    "        super(DecoderRNN, self).__init__()\n",
    "        self.hidden_size = hidden_size\n",
    "        self.word_size = word_size\n",
    "\n",
    "        self.latent_to_hidden = nn.Linear(\n",
    "            latent_size+condition_size, hidden_size\n",
    "        )\n",
    "        self.word_embedding = nn.Embedding(word_size, hidden_size)\n",
    "        self.gru = nn.GRU(hidden_size, hidden_size)\n",
    "        self.out = nn.Linear(hidden_size, word_size)\n",
    "    \n",
    "    def initHidden(self, z, c):\n",
    "        latent = torch.cat((z, c), dim=2)\n",
    "        return self.latent_to_hidden(latent)\n",
    "    \n",
    "    def forward(self, x, hidden):\n",
    "        # get (1, 1, hidden_size)\n",
    "        x = self.word_embedding(x).view(1, 1, self.hidden_size)\n",
    "        \n",
    "        # get (1, 1, hidden_size) (1, 1, hidden_size)\n",
    "        output, hidden = self.gru(x, hidden)\n",
    "            \n",
    "        # get (1, word_size)\n",
    "        output = self.out(output).view(-1, self.word_size)\n",
    "        \n",
    "        return output, hidden\n",
    "    \n",
    "    def forwardv1(self, inputs, z, c, teacher=False, hidden=None):\n",
    "        # get (1,1,latent_size + condition_size)\n",
    "        latent = torch.cat((z, c), dim=2)\n",
    "        \n",
    "        # get (1,1,hidden_size)\n",
    "        if hidden is None:\n",
    "            hidden = self.latent_to_hidden(latent)\n",
    "            #print(\"get hidden from latent\")\n",
    "        \n",
    "        # get (seq, 1, hidden_size)\n",
    "        x = self.word_embedding(inputs).view(-1, 1, self.hidden_size)\n",
    "        \n",
    "        input_length = x.size(0)\n",
    "        \n",
    "        # get (seq, 1, hidden_size), (1, 1, hidden_size)\n",
    "        if teacher:\n",
    "            outputs = []\n",
    "            for i in range(input_length-1):\n",
    "                output, hidden = self.gru(x[i:i+1], hidden)\n",
    "                hidden = x[i+1:i+2]\n",
    "                outputs.append(output)\n",
    "            \n",
    "            outputs = torch.cat(outputs, dim=0)\n",
    "        else:\n",
    "            # Omit EOS token\n",
    "            x = x[:-1]\n",
    "            outputs, hidden = self.gru(x, hidden)\n",
    "        \n",
    "            \n",
    "        # get (seq, word_size)\n",
    "        outputs = self.out(outputs).view(-1, self.word_size)\n",
    "        \n",
    "        return outputs, hidden"
   ]
  },
  {
   "cell_type": "code",
   "execution_count": 202,
   "metadata": {},
   "outputs": [],
   "source": [
    "# config\n",
    "\n",
    "train_dataset = wordsDataset()\n",
    "test_dataset = wordsDataset(False)\n",
    "\n",
    "word_size = train_dataset.chardict.n_words\n",
    "num_condition = len(train_dataset.tenses)\n",
    "hidden_size = 256\n",
    "latent_size = 32\n",
    "condition_size = 8\n",
    "\n",
    "teacher_forcing_ratio = 0.5\n",
    "empty_input_ratio = 0.1\n",
    "KLD_weight = 0.0\n",
    "LR = 0.05"
   ]
  },
  {
   "cell_type": "code",
   "execution_count": 203,
   "metadata": {},
   "outputs": [
    {
     "data": {
      "text/plain": [
       "(EncoderRNN(\n",
       "   (condition_embedding): Embedding(4, 8)\n",
       "   (word_embedding): Embedding(28, 256)\n",
       "   (gru): GRU(256, 256)\n",
       "   (mean): Linear(in_features=256, out_features=32, bias=True)\n",
       "   (logvar): Linear(in_features=256, out_features=32, bias=True)\n",
       " ), DecoderRNN(\n",
       "   (latent_to_hidden): Linear(in_features=40, out_features=256, bias=True)\n",
       "   (word_embedding): Embedding(28, 256)\n",
       "   (gru): GRU(256, 256)\n",
       "   (out): Linear(in_features=256, out_features=28, bias=True)\n",
       " ))"
      ]
     },
     "execution_count": 203,
     "metadata": {},
     "output_type": "execute_result"
    }
   ],
   "source": [
    "encoder = EncoderRNN(\n",
    "    word_size, hidden_size, latent_size, num_condition, condition_size\n",
    ").to(device)\n",
    "decoder = DecoderRNN(\n",
    "    word_size, hidden_size, latent_size, condition_size\n",
    ").to(device)\n",
    "encoder, decoder"
   ]
  },
  {
   "cell_type": "code",
   "execution_count": 228,
   "metadata": {},
   "outputs": [],
   "source": [
    "load_model(\n",
    "    {'encoder':encoder, 'decoder':decoder}, \n",
    "    os.path.join('.', 'best')\n",
    ")"
   ]
  },
  {
   "cell_type": "markdown",
   "metadata": {},
   "source": [
    "# KL weights\n",
    "\n",
    "loss = cross_entropy + (kl w)*KL($q(Z|X, c;\\theta') || p(Z|c)$)"
   ]
  },
  {
   "cell_type": "code",
   "execution_count": 265,
   "metadata": {},
   "outputs": [],
   "source": [
    "def decode_inference(decoder, z, c, maxlen, teacher=False, inputs=None):\n",
    "    sos_token = train_dataset.chardict.word2index['SOS']\n",
    "    eos_token = train_dataset.chardict.word2index['EOS']\n",
    "    z = z.view(1,1,-1)\n",
    "    i = 0\n",
    "    \n",
    "    outputs = []\n",
    "    x = torch.LongTensor([sos_token]).to(device)\n",
    "    hidden = decoder.initHidden(z, c)\n",
    "    \n",
    "    for i in range(maxlen):\n",
    "        # get (1, word_size), (1,1,hidden_size)\n",
    "        x = x.detach()\n",
    "        output, hidden = decoder(\n",
    "            x,\n",
    "            hidden\n",
    "        )\n",
    "        outputs.append(output)\n",
    "        output_onehot = torch.max(torch.softmax(output, dim=1), 1)[1]\n",
    "        \n",
    "        # meet EOS\n",
    "        if output_onehot.item() == eos_token and not teacher:\n",
    "            break\n",
    "        \n",
    "        if teacher:\n",
    "            x = inputs[i+1:i+2]\n",
    "        else:\n",
    "            x = output_onehot\n",
    "    \n",
    "    # get (seq, word_size)\n",
    "    if len(outputs) != 0:\n",
    "        outputs = torch.cat(outputs, dim=0)\n",
    "    else:\n",
    "        outputs = torch.FloatTensor([]).view(0, word_size).to(device)\n",
    "    \n",
    "    return outputs"
   ]
  },
  {
   "cell_type": "code",
   "execution_count": 208,
   "metadata": {},
   "outputs": [],
   "source": [
    "#compute BLEU-4 score\n",
    "def compute_bleu(output, reference):\n",
    "    cc = SmoothingFunction()\n",
    "    return sentence_bleu(\n",
    "        [reference], output,\n",
    "        weights=(0.25, 0.25, 0.25, 0.25),smoothing_function=cc.method1\n",
    "    )\n",
    "\n",
    "def evaluation(encoder, decoder, dataset,show=True):\n",
    "    encoder.eval()\n",
    "    decoder.eval()\n",
    "    \n",
    "    blue_score = []\n",
    "    \n",
    "    for idx in range(len(dataset)):\n",
    "        data = dataset[idx]\n",
    "        if dataset.train:\n",
    "            inputs, input_condition = data\n",
    "            targets = inputs\n",
    "            target_condition = input_condition\n",
    "        else:\n",
    "            inputs, input_condition, targets, target_condition = data\n",
    "            \n",
    "        # input no sos and eos\n",
    "        z, _, _ = encoder(inputs[1:-1].to(device), encoder.initHidden(), input_condition)\n",
    "            \n",
    "        # input has sos and eos\n",
    "        \n",
    "        outputs = decode_inference(decoder, z, encoder.condition(target_condition), maxlen=len(targets))\n",
    "            \n",
    "        # show output by string\n",
    "        outputs_onehot = torch.max(torch.softmax(outputs, dim=1), 1)[1]\n",
    "        inputs_str = train_dataset.chardict.stringFromLongtensor(inputs, check_end=True)\n",
    "        targets_str = train_dataset.chardict.stringFromLongtensor(targets, check_end=True)\n",
    "        outputs_str = train_dataset.chardict.stringFromLongtensor(outputs_onehot, check_end=True)\n",
    "        \n",
    "        if show:\n",
    "            print(inputs_str, '->', targets_str,':',outputs_str)\n",
    "        \n",
    "        blue_score.append( compute_bleu(outputs_str, targets_str) )\n",
    "    \n",
    "    if show:\n",
    "        print('BLEU-4 score : {}'.format(sum(blue_score) / len(blue_score)))\n",
    "    \n",
    "    return blue_score"
   ]
  },
  {
   "cell_type": "code",
   "execution_count": 209,
   "metadata": {},
   "outputs": [],
   "source": [
    "def KLD_weight_annealing(epoch):\n",
    "    slope = 0.001\n",
    "    #slope = 0.1\n",
    "    scope = (1.0 / slope)*2\n",
    "    \n",
    "    w = (epoch % scope) * slope\n",
    "    \n",
    "    if w > 1.0:\n",
    "        w = 1.0\n",
    "    \n",
    "    return w\n",
    "\n",
    "def Teacher_Forcing_Ratio(epoch):\n",
    "    # from 1.0 to 0.0\n",
    "    slope = 0.01\n",
    "    level = 10\n",
    "    w = 1.0 - (slope * (epoch//level))\n",
    "    if w <= 0.0:\n",
    "        w = 0.0\n",
    "    \n",
    "    return w"
   ]
  },
  {
   "cell_type": "code",
   "execution_count": 269,
   "metadata": {},
   "outputs": [],
   "source": [
    "def asMinutes(s):\n",
    "    m = math.floor(s / 60)\n",
    "    s -= m * 60\n",
    "    return '{:4d}m {:2d}s'.format(int(m), int(s))\n",
    "\n",
    "\n",
    "def timeSince(since, percent):\n",
    "    now = time.time()\n",
    "    s = now - since\n",
    "    es = s / (percent)\n",
    "    rs = es - s\n",
    "    return '%s (- %s)' % (asMinutes(s), asMinutes(rs))\n",
    "\n",
    "def KL_loss(m, logvar):\n",
    "    return torch.sum(0.5 * (-logvar + (m**2) + torch.exp(logvar) - 1))\n",
    "\n",
    "def trainEpochs(\n",
    "    name, encoder, decoder, epoch_size, learning_rate=1e-2,\n",
    "    show_size=1000, KLD_weight=0.0, \n",
    "    teacher_forcing_ratio = 1.0, eval_size=100,\n",
    "    metrics=[],start_epoch=0\n",
    "):  \n",
    "    start = time.time()\n",
    "    #plots = []\n",
    "    show_loss_total = 0\n",
    "    plot_loss_total = 0\n",
    "    plot_kl_loss_total = 0\n",
    "    char_accuracy_total = 0\n",
    "    char_accuracy_len = 0\n",
    "    \n",
    "    kld_w = 0.0\n",
    "    tfr = 0.0\n",
    "    \n",
    "    encoder_optimizer = optim.SGD(encoder.parameters(), lr=learning_rate)\n",
    "    decoder_optimizer = optim.SGD(decoder.parameters(), lr=learning_rate)\n",
    "    \n",
    "    criterion = nn.CrossEntropyLoss(reduction='sum')\n",
    "\n",
    "    for epoch in range(start_epoch, epoch_size):\n",
    "        encoder.train()\n",
    "        decoder.train()\n",
    "        \n",
    "        if callable(teacher_forcing_ratio):\n",
    "            tfr = teacher_forcing_ratio(epoch)\n",
    "        else:\n",
    "            tfr = teacher_forcing_ratio\n",
    "        \n",
    "        if callable(KLD_weight):\n",
    "            kld_w = KLD_weight(epoch)\n",
    "        else:\n",
    "            kld_w = KLD_weight\n",
    "        \n",
    "        # get data from trian dataset\n",
    "        for idx in range(len(train_dataset)):   \n",
    "        #for idx in range(1):\n",
    "            data = train_dataset[idx]\n",
    "            inputs, c = data\n",
    "            \n",
    "            encoder_optimizer.zero_grad()\n",
    "            decoder_optimizer.zero_grad()\n",
    "            \n",
    "            # input no sos and eos\n",
    "            z, m, logvar = encoder(inputs[1:-1].to(device), encoder.initHidden(), c)\n",
    "            \n",
    "            # decide teacher forcing\n",
    "            use_teacher_forcing = True if random.random() < tfr else False\n",
    "            \n",
    "            # input has sos\n",
    "            #outputs, _ = decoder(inputs.to(device), z, encoder.condition(c), use_teacher_forcing)\n",
    "            outputs = decode_inference(\n",
    "                decoder, z, encoder.condition(c), maxlen=inputs[1:].size(0), \n",
    "                teacher=use_teacher_forcing, inputs=inputs.to(device))\n",
    "            \n",
    "            # target no sos\n",
    "            output_length = outputs.size(0)\n",
    "            \n",
    "            loss = criterion(outputs, inputs[1:1+output_length].to(device))\n",
    "            kld_loss = KL_loss(m, logvar)\n",
    "            #loss = criterion(outputs, inputs[:-1].to(device))\n",
    "                \n",
    "            #print('crossentropy : {} , kld : {}'.format(loss.item(), kld_loss.item()))\n",
    "                \n",
    "            (loss + (kld_w * kld_loss)).backward()\n",
    "            \n",
    "            encoder_optimizer.step()\n",
    "            decoder_optimizer.step()\n",
    "            \n",
    "            show_loss_total += loss.item() + ( kld_w*kld_loss.item() )\n",
    "            plot_loss_total += loss.item()\n",
    "            plot_kl_loss_total += kld_loss.item()\n",
    "            \n",
    "            # show output by string\n",
    "            # outputs_onehot = torch.max(outputs, 1)[1]\n",
    "            outputs_onehot = torch.max(torch.softmax(outputs, dim=1), 1)[1]\n",
    "            inputs_str = train_dataset.chardict.stringFromLongtensor(inputs, show_token=True)\n",
    "            outputs_str = train_dataset.chardict.stringFromLongtensor(outputs_onehot, show_token=True)\n",
    "            #print(inputs_str,':',outputs_str)\n",
    "            \n",
    "            #char_accuracy_total += (outputs_onehot[:-1] == inputs[1:-1].to(device)).sum().item()\n",
    "            #char_accuracy_len += len(inputs[1:-1])\n",
    "            \n",
    "            if np.isnan(loss.item()) or np.isnan(kld_loss.item()):\n",
    "                raise AttributeError(\"Became NAN !! loss : {}, kl : {}\".format(loss.item(), kld_loss.item()))\n",
    "            \n",
    "        score = 0\n",
    "        for _ in range(eval_size):\n",
    "            all_score = evaluation(encoder, decoder, test_dataset, show=False)\n",
    "            score += sum(all_score) / len(all_score)\n",
    "        score /= eval_size\n",
    "        \n",
    "        save_model_by_score(\n",
    "            {'encoder':encoder, 'decoder':decoder}, \n",
    "            score, \n",
    "            os.path.join('.', name)\n",
    "        )\n",
    "        \n",
    "        if (epoch + 1)%show_size == 0:\n",
    "            show_loss_total /= show_size\n",
    "            print(\"{} ({} {}%) \\ntotal loss : {:.4f}\".format(\n",
    "                timeSince(start, (epoch+1) / epoch_size),\n",
    "                epoch+1, (epoch+1)*100/epoch_size, show_loss_total\n",
    "            ))\n",
    "            print('bleu score : {:.5f}\\n'.format(score))\n",
    "            show_loss_total = 0\n",
    "        \n",
    "        metrics.append((\n",
    "            plot_loss_total, plot_kl_loss_total, score, \n",
    "            kld_w, tfr, learning_rate\n",
    "        ))\n",
    "        \n",
    "        plot_loss_total = 0\n",
    "        plot_kl_loss_total = 0\n",
    "        char_accuracy_total = 0\n",
    "        char_accuracy_len = 0\n",
    "        \n",
    "    return metrics"
   ]
  },
  {
   "cell_type": "code",
   "execution_count": 271,
   "metadata": {},
   "outputs": [
    {
     "data": {
      "text/plain": [
       "(EncoderRNN(\n",
       "   (condition_embedding): Embedding(4, 8)\n",
       "   (word_embedding): Embedding(28, 256)\n",
       "   (gru): GRU(256, 256)\n",
       "   (mean): Linear(in_features=256, out_features=32, bias=True)\n",
       "   (logvar): Linear(in_features=256, out_features=32, bias=True)\n",
       " ), DecoderRNN(\n",
       "   (latent_to_hidden): Linear(in_features=40, out_features=256, bias=True)\n",
       "   (word_embedding): Embedding(28, 256)\n",
       "   (gru): GRU(256, 256)\n",
       "   (out): Linear(in_features=256, out_features=28, bias=True)\n",
       " ))"
      ]
     },
     "execution_count": 271,
     "metadata": {},
     "output_type": "execute_result"
    }
   ],
   "source": [
    "metrics = []\n",
    "encoder = EncoderRNN(\n",
    "    word_size, hidden_size, latent_size, num_condition, condition_size\n",
    ").to(device)\n",
    "decoder = DecoderRNN(\n",
    "    word_size, hidden_size, latent_size, condition_size\n",
    ").to(device)\n",
    "encoder, decoder"
   ]
  },
  {
   "cell_type": "code",
   "execution_count": null,
   "metadata": {},
   "outputs": [],
   "source": [
    "%%time\n",
    "metrics_backup = trainEpochs(\n",
    "    'training_from_init', \n",
    "    encoder, decoder, \n",
    "    epoch_size=1000, show_size=10, learning_rate=10e-4,\n",
    "    KLD_weight=KLD_weight_annealing, \n",
    "    teacher_forcing_ratio=Teacher_Forcing_Ratio,\n",
    "    metrics=metrics, start_epoch=len(metrics)\n",
    ")"
   ]
  },
  {
   "cell_type": "code",
   "execution_count": 282,
   "metadata": {},
   "outputs": [],
   "source": [
    "torch.save(metrics, os.path.join('.', 'metrics.pkl'))"
   ]
  },
  {
   "cell_type": "code",
   "execution_count": 290,
   "metadata": {},
   "outputs": [
    {
     "data": {
      "text/html": [
       "<div>\n",
       "<style scoped>\n",
       "    .dataframe tbody tr th:only-of-type {\n",
       "        vertical-align: middle;\n",
       "    }\n",
       "\n",
       "    .dataframe tbody tr th {\n",
       "        vertical-align: top;\n",
       "    }\n",
       "\n",
       "    .dataframe thead th {\n",
       "        text-align: right;\n",
       "    }\n",
       "</style>\n",
       "<table border=\"1\" class=\"dataframe\">\n",
       "  <thead>\n",
       "    <tr style=\"text-align: right;\">\n",
       "      <th></th>\n",
       "      <th>crossentropy</th>\n",
       "      <th>kl</th>\n",
       "      <th>score</th>\n",
       "      <th>klw</th>\n",
       "      <th>tfr</th>\n",
       "      <th>lr</th>\n",
       "    </tr>\n",
       "  </thead>\n",
       "  <tbody>\n",
       "    <tr>\n",
       "      <th>0</th>\n",
       "      <td>89101.136745</td>\n",
       "      <td>5966.925976</td>\n",
       "      <td>0.035962</td>\n",
       "      <td>0.000</td>\n",
       "      <td>0.000</td>\n",
       "      <td>0.001</td>\n",
       "    </tr>\n",
       "    <tr>\n",
       "      <th>1</th>\n",
       "      <td>85701.978703</td>\n",
       "      <td>12254.600249</td>\n",
       "      <td>0.037190</td>\n",
       "      <td>0.001</td>\n",
       "      <td>0.001</td>\n",
       "      <td>0.001</td>\n",
       "    </tr>\n",
       "    <tr>\n",
       "      <th>2</th>\n",
       "      <td>84213.895840</td>\n",
       "      <td>33564.513903</td>\n",
       "      <td>0.041222</td>\n",
       "      <td>0.002</td>\n",
       "      <td>0.002</td>\n",
       "      <td>0.001</td>\n",
       "    </tr>\n",
       "    <tr>\n",
       "      <th>3</th>\n",
       "      <td>81837.984439</td>\n",
       "      <td>65529.477637</td>\n",
       "      <td>0.043647</td>\n",
       "      <td>0.003</td>\n",
       "      <td>0.003</td>\n",
       "      <td>0.001</td>\n",
       "    </tr>\n",
       "    <tr>\n",
       "      <th>4</th>\n",
       "      <td>79485.362122</td>\n",
       "      <td>85082.594107</td>\n",
       "      <td>0.044941</td>\n",
       "      <td>0.004</td>\n",
       "      <td>0.004</td>\n",
       "      <td>0.001</td>\n",
       "    </tr>\n",
       "  </tbody>\n",
       "</table>\n",
       "</div>"
      ],
      "text/plain": [
       "   crossentropy            kl     score    klw    tfr     lr\n",
       "0  89101.136745   5966.925976  0.035962  0.000  0.000  0.001\n",
       "1  85701.978703  12254.600249  0.037190  0.001  0.001  0.001\n",
       "2  84213.895840  33564.513903  0.041222  0.002  0.002  0.001\n",
       "3  81837.984439  65529.477637  0.043647  0.003  0.003  0.001\n",
       "4  79485.362122  85082.594107  0.044941  0.004  0.004  0.001"
      ]
     },
     "execution_count": 290,
     "metadata": {},
     "output_type": "execute_result"
    }
   ],
   "source": [
    "metrics_df = pd.DataFrame(metrics, columns=[\n",
    "    \"crossentropy\", \"kl\", \"score\", \"klw\", \"tfr\", \"lr\"\n",
    "])\n",
    "metrics_df.head()"
   ]
  },
  {
   "cell_type": "code",
   "execution_count": 312,
   "metadata": {},
   "outputs": [],
   "source": [
    "metrics_df.to_csv(os.path.join('.', 'metrics_v1.csv'), index=False)"
   ]
  },
  {
   "cell_type": "code",
   "execution_count": 328,
   "metadata": {},
   "outputs": [],
   "source": [
    "def show_curve(df):\n",
    "    plt.figure(figsize=(10,6))\n",
    "    plt.title('Training\\nLoss/Score/Weight Curve')\n",
    "    \n",
    "    plt.plot(df.index, df.kl, label='KLD', linewidth=3)\n",
    "    plt.plot(df.index, df.crossentropy, label='CrossEntropy', linewidth=3)\n",
    "    \n",
    "    plt.xlabel('epoch')\n",
    "    plt.ylabel('loss')\n",
    "    \n",
    "    h1, l1 = plt.gca().get_legend_handles_labels()\n",
    "    \n",
    "    ax = plt.gca().twinx()\n",
    "    ax.plot(metrics_df.index, metrics_df.score, '.', label='BLEU4-score',c=\"C2\")\n",
    "    ax.plot(metrics_df.index, metrics_df.klw, '--', label='KLD_weight',c=\"C3\")\n",
    "    ax.plot(metrics_df.index, metrics_df.tfr, '--', label='Teacher ratio',c=\"C4\")\n",
    "    ax.set_ylabel('score / weight')\n",
    "    \n",
    "    h2, l2 = ax.get_legend_handles_labels()\n",
    "    \n",
    "    ax.legend(h1+h2, l1+l2)\n",
    "    plt.show()"
   ]
  },
  {
   "cell_type": "code",
   "execution_count": 329,
   "metadata": {},
   "outputs": [
    {
     "data": {
      "image/png": "[encoded data removed]",
      "text/plain": [
       "<Figure size 720x432 with 2 Axes>"
      ]
     },
     "metadata": {
      "needs_background": "light"
     },
     "output_type": "display_data"
    }
   ],
   "source": [
    "show_curve(metrics_df)"
   ]
  },
  {
   "cell_type": "code",
   "execution_count": null,
   "metadata": {},
   "outputs": [],
   "source": []
  },
  {
   "cell_type": "code",
   "execution_count": 330,
   "metadata": {},
   "outputs": [
    {
     "data": {
      "text/plain": [
       "{'encoder': './generator/encoder-params.pkl',\n",
       " 'decoder': './generator/decoder-params.pkl'}"
      ]
     },
     "execution_count": 330,
     "metadata": {},
     "output_type": "execute_result"
    }
   ],
   "source": [
    "#save_model({'encoder':encoder, 'decoder':decoder}, \n",
    "#    os.path.join('.', 'generator'))"
   ]
  },
  {
   "cell_type": "code",
   "execution_count": 313,
   "metadata": {},
   "outputs": [
    {
     "name": "stdout",
     "output_type": "stream",
     "text": [
      "abandon -> abandoned : festooned\n",
      "abet -> abetting : fettering\n",
      "begin -> begins : begets\n",
      "expend -> expends : feints\n",
      "sent -> sends : sees\n",
      "split -> splitting : feigning\n",
      "flared -> flare : tear\n",
      "functioning -> function : fasterize\n",
      "functioning -> functioned : federated\n",
      "healing -> heals : heals\n",
      "BLEU-4 score : 0.22694407060021876\n"
     ]
    }
   ],
   "source": [
    "all_score = evaluation(encoder, decoder, test_dataset)"
   ]
  },
  {
   "cell_type": "code",
   "execution_count": 346,
   "metadata": {},
   "outputs": [],
   "source": [
    "def generate_word(encoder, decoder, z, condition, maxlen=20):\n",
    "    encoder.eval()\n",
    "    decoder.eval()\n",
    "    \n",
    "    outputs = decode_inference(\n",
    "        decoder, z, encoder.condition(condition), maxlen=maxlen\n",
    "    )\n",
    "    \n",
    "    return torch.max(torch.softmax(outputs, dim=1), 1)[1]\n",
    "\n",
    "def show_noise(noise):\n",
    "    plt.title('sample Z')\n",
    "    plt.plot(list(noise))\n",
    "    plt.show()\n",
    "\n",
    "def generate_test(encoder, decoder, noise=None):\n",
    "    if noise is None:\n",
    "        noise = encoder.sample_z()\n",
    "    \n",
    "    show_noise(noise)\n",
    "    \n",
    "    strs = []\n",
    "    for i in range(len(train_dataset.tenses)):\n",
    "        outputs = generate_word(encoder, decoder, noise, i)\n",
    "        output_str = train_dataset.chardict.stringFromLongtensor(outputs)\n",
    "        print('{:20s} : {}'.format(train_dataset.tenses[i],output_str))\n",
    "        strs.append(output_str)\n",
    "    \n",
    "    return noise, strs"
   ]
  },
  {
   "cell_type": "code",
   "execution_count": 232,
   "metadata": {},
   "outputs": [],
   "source": [
    "noise = encoder.sample_z()"
   ]
  },
  {
   "cell_type": "code",
   "execution_count": null,
   "metadata": {},
   "outputs": [],
   "source": []
  },
  {
   "cell_type": "code",
   "execution_count": 74,
   "metadata": {},
   "outputs": [
    {
     "name": "stdout",
     "output_type": "stream",
     "text": [
      "tensor([-0.2851,  1.2386,  1.0263,  1.1914, -1.4874, -1.2694,  0.6261, -0.4220,\n",
      "        -0.6354,  0.1487, -2.7937, -1.4543,  0.1237,  0.7397, -1.0753,  0.2940,\n",
      "         0.0773, -0.9082,  1.0397, -0.0071,  0.0673, -0.0568, -0.3548,  0.2373,\n",
      "        -0.2261, -0.8434,  0.6118,  0.2808,  1.0806, -0.1785,  0.0830, -0.6146],\n",
      "       device='cuda:0')\n",
      "simple-present       : throw\n",
      "third-person         : throws\n",
      "present-progressive  : throwing\n",
      "simple-past          : throwed\n"
     ]
    }
   ],
   "source": [
    "print(noise)\n",
    "for i in range(len(train_dataset.tenses)):\n",
    "    outputs = generate_word(encoder, decoder, noise, i)\n",
    "    output_str = train_dataset.chardict.stringFromLongtensor(outputs)\n",
    "    print('{:20s} : {}'.format(train_dataset.tenses[i],output_str))"
   ]
  },
  {
   "cell_type": "code",
   "execution_count": 347,
   "metadata": {},
   "outputs": [
    {
     "data": {
      "image/png": "[encoded data removed]",
      "text/plain": [
       "<Figure size 432x288 with 1 Axes>"
      ]
     },
     "metadata": {
      "needs_background": "light"
     },
     "output_type": "display_data"
    },
    {
     "name": "stdout",
     "output_type": "stream",
     "text": [
      "simple-present       : send\n",
      "third-person         : sends\n",
      "present-progressive  : sending\n",
      "simple-past          : sensed\n"
     ]
    },
    {
     "data": {
      "text/plain": [
       "(tensor([ 0.2135, -0.2294, -0.3233, -0.9780, -0.6078,  0.9624,  0.3910, -1.2901,\n",
       "         -0.3488, -0.2205,  0.8343, -0.4341, -0.8862, -1.5538,  0.6397,  0.3526,\n",
       "         -1.2258, -0.6947, -0.3122, -0.1435,  0.7765, -0.2508,  0.8697,  0.6894,\n",
       "          0.8417,  0.4135,  0.6623, -0.0370,  0.2003,  0.3406, -0.3668,  0.2929],\n",
       "        device='cuda:0'), ['send', 'sends', 'sending', 'sensed'])"
      ]
     },
     "execution_count": 347,
     "metadata": {},
     "output_type": "execute_result"
    }
   ],
   "source": [
    "generate_test(encoder, decoder)"
   ]
  },
  {
   "cell_type": "code",
   "execution_count": 348,
   "metadata": {},
   "outputs": [
    {
     "data": {
      "image/png": "[encoded data removed]",
      "text/plain": [
       "<Figure size 432x288 with 1 Axes>"
      ]
     },
     "metadata": {
      "needs_background": "light"
     },
     "output_type": "display_data"
    },
    {
     "name": "stdout",
     "output_type": "stream",
     "text": [
      "simple-present       : feign\n",
      "third-person         : feigns\n",
      "present-progressive  : feigning\n",
      "simple-past          : feigned\n"
     ]
    }
   ],
   "source": [
    "noise = torch.FloatTensor([-0.2851,  1.2386,  1.0263,  1.1914, -1.4874, -1.2694,  0.6261, -0.4220,\n",
    "        -0.6354,  0.1487, -2.7937, -1.4543,  0.1237,  0.7397, -1.0753,  0.2940,\n",
    "         0.0773, -0.9082,  1.0397, -0.0071,  0.0673, -0.0568, -0.3548,  0.2373,\n",
    "        -0.2261, -0.8434,  0.6118,  0.2808,  1.0806, -0.1785,  0.0830, -0.6146]).to(device)\n",
    "_ = generate_test(encoder, decoder, noise=noise)"
   ]
  },
  {
   "cell_type": "code",
   "execution_count": 350,
   "metadata": {},
   "outputs": [
    {
     "data": {
      "image/png": "[encoded data removed]",
      "text/plain": [
       "<Figure size 432x288 with 1 Axes>"
      ]
     },
     "metadata": {
      "needs_background": "light"
     },
     "output_type": "display_data"
    },
    {
     "name": "stdout",
     "output_type": "stream",
     "text": [
      "simple-present       : hire\n",
      "third-person         : hides\n",
      "present-progressive  : hiding\n",
      "simple-past          : hid\n"
     ]
    }
   ],
   "source": [
    "noise = torch.FloatTensor([-0.7582,  0.1164, -0.9150,  0.0746,  0.4415,  0.2936, -0.2462, -2.2326,\n",
    "         0.3443,  0.0221,  1.3298, -0.1673,  1.1407, -1.0491, -1.4391,  1.0493,\n",
    "         2.3256,  2.0457,  0.1153,  1.1268, -0.7038,  0.7340, -1.9563, -0.8247,\n",
    "         0.4381,  0.5817, -0.2629,  0.0147, -1.4602,  0.0104, -0.9053, -1.2561]).to(device)\n",
    "_ = generate_test(encoder, decoder, noise=noise)"
   ]
  },
  {
   "cell_type": "code",
   "execution_count": null,
   "metadata": {},
   "outputs": [],
   "source": []
  }
 ],
 "metadata": {
  "kernelspec": {
   "display_name": "Python 3",
   "language": "python",
   "name": "python3"
  },
  "language_info": {
   "codemirror_mode": {
    "name": "ipython",
    "version": 3
   },
   "file_extension": ".py",
   "mimetype": "text/x-python",
   "name": "python",
   "nbconvert_exporter": "python",
   "pygments_lexer": "ipython3",
   "version": "3.6.8"
  }
 },
 "nbformat": 4,
 "nbformat_minor": 2
}
