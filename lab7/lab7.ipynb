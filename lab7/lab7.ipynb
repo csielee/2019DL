{
 "cells": [
  {
   "cell_type": "code",
   "execution_count": 262,
   "metadata": {},
   "outputs": [],
   "source": [
    "import numpy as np\n",
    "import pickle\n",
    "import matplotlib.pyplot as plt\n",
    "from IPython.display import clear_output"
   ]
  },
  {
   "cell_type": "markdown",
   "metadata": {},
   "source": [
    "# 2048 Environment implementation\n",
    "\n",
    "from https://github.com/moporgic/2048-Demo-Python/"
   ]
  },
  {
   "cell_type": "code",
   "execution_count": 250,
   "metadata": {},
   "outputs": [],
   "source": [
    "import random\n",
    "\n",
    "class board:\n",
    "    \"\"\"simple implementation of 2048 puzzle\"\"\"\n",
    "    \n",
    "    def __init__(self, tile = None):\n",
    "        self.tile = tile if tile is not None else [0] * 16\n",
    "    \n",
    "    def __str__(self):\n",
    "        state = '+' + '-' * 24 + '+\\n'\n",
    "        for row in [self.tile[r:r + 4] for r in range(0, 16, 4)]:\n",
    "            state += ('|' + ''.join('{0:6d}'.format((1 << t) & -2) for t in row) + '|\\n')\n",
    "        state += '+' + '-' * 24 + '+'\n",
    "        return state\n",
    "    \n",
    "    def mirror(self):\n",
    "        return board([self.tile[r + i] for r in range(0, 16, 4) for i in reversed(range(4))])\n",
    "    \n",
    "    def transpose(self):\n",
    "        return board([self.tile[r + i] for i in range(4) for r in range(0, 16, 4)])\n",
    "    \n",
    "    def rotate(self):\n",
    "        return board([self.tile[4*(3-(i%4)) + (i//4)] for i in range(16)])\n",
    "    \n",
    "    def left(self):\n",
    "        move, score = [], 0\n",
    "        for row in [self.tile[r:r+4] for r in range(0, 16, 4)]:\n",
    "            row, buf = [], [t for t in row if t]\n",
    "            while buf:\n",
    "                if len(buf) >= 2 and buf[0] is buf[1]:\n",
    "                    buf = buf[1:]\n",
    "                    buf[0] += 1\n",
    "                    score += 1 << buf[0]\n",
    "                row += [buf[0]]\n",
    "                buf = buf[1:]\n",
    "            move += row + [0] * (4 - len(row))\n",
    "        return board(move), score if move != self.tile else -1\n",
    "    \n",
    "    def right(self):\n",
    "        move, score = self.mirror().left()\n",
    "        return move.mirror(), score\n",
    "    \n",
    "    def up(self):\n",
    "        move, score = self.transpose().left()\n",
    "        return move.transpose(), score\n",
    "    \n",
    "    def down(self):\n",
    "        move, score = self.transpose().right()\n",
    "        return move.transpose(), score\n",
    "    \n",
    "    def popup(self):\n",
    "        tile = self.tile[:]\n",
    "        empty = [i for i, t in enumerate(tile) if not t]\n",
    "        tile[random.choice(empty)] = random.choice([1] * 9 + [2])\n",
    "        return board(tile)\n",
    "    \n",
    "    def end(self):\n",
    "        tile = self.tile[:]\n",
    "        empty = [i for i, t in enumerate(tile) if not t]\n",
    "        return len(empty) == 0"
   ]
  },
  {
   "cell_type": "code",
   "execution_count": 353,
   "metadata": {},
   "outputs": [],
   "source": [
    "def gamestatus(game, maxnum=12):\n",
    "    counter = [0]*maxnum\n",
    "    for i in game.tile:\n",
    "        counter[i]+=1\n",
    "    return np.array(counter) / len(game.tile)\n",
    "\n",
    "def showstatus(game):\n",
    "    s = \"\"\n",
    "    for i, p in enumerate(gamestatus(game)):\n",
    "        s += \"{:4d}:[{:3.1f}] \".format(1<<i & -2, p*100.0)\n",
    "    return s"
   ]
  },
  {
   "cell_type": "markdown",
   "metadata": {},
   "source": [
    "# n-Tuples Pattern"
   ]
  },
  {
   "cell_type": "code",
   "execution_count": 372,
   "metadata": {},
   "outputs": [],
   "source": [
    "def find_isomorphic_pattern(pattern):\n",
    "    a = board(list(range(16)))\n",
    "\n",
    "    isomorphic_pattern = []\n",
    "    for i in range(8):\n",
    "        if (i >= 4):\n",
    "            b = board( a.mirror().tile )\n",
    "        else:\n",
    "            b = board( a.tile )\n",
    "        for _ in range(i%4):\n",
    "            b = b.rotate()\n",
    "        isomorphic_pattern.append(np.array(b.tile)[pattern])\n",
    "        \n",
    "    return isomorphic_pattern\n",
    "\n",
    "class TuplesNet():\n",
    "    def __init__(self, pattern, maxnum):\n",
    "        self.V = np.zeros(([maxnum]*len(pattern)))\n",
    "        self.pattern = pattern\n",
    "        self.isomorphic_pattern = find_isomorphic_pattern(self.pattern)\n",
    "        \n",
    "    def getState(self, tile):\n",
    "        return [tuple(np.array(tile)[p]) for p in self.isomorphic_pattern]\n",
    "    \n",
    "    def getValue(self, tile):\n",
    "        S = self.getState(tile)\n",
    "        \n",
    "        V = [self.V[s] for s in S]\n",
    "        \n",
    "        # sum all value from isomorphic pattern\n",
    "        V = sum(V)\n",
    "        #V = sum(V) / len(V)\n",
    "        \n",
    "        return V\n",
    "    \n",
    "    def setValue(self, tile, v, reset=False):\n",
    "        S = self.getState(tile)\n",
    "        \n",
    "        # set value to isomorphic pattern\n",
    "        v /= len(self.isomorphic_pattern)\n",
    "        V = 0.0\n",
    "        for s in S:\n",
    "            self.V[s] += v\n",
    "            #if not reset:\n",
    "                #self.V[s] += v\n",
    "            #else:\n",
    "                #self.V[s] =  v\n",
    "                \n",
    "            V += self.V[s]\n",
    "        return V"
   ]
  },
  {
   "cell_type": "markdown",
   "metadata": {},
   "source": [
    "# TD learning"
   ]
  },
  {
   "cell_type": "code",
   "execution_count": 403,
   "metadata": {},
   "outputs": [],
   "source": [
    "# my implement ref from pseudo algo\n",
    "            # game__ = board(s__)\n",
    "            # next_games__ = [game__.up(), game__.down(), game__.left(), game__.right()]\n",
    "            # action = np.argmax(self.evaulate(next_games__))\n",
    "            \n",
    "            # next_game__, reward__ = next_games__[action]\n",
    "            \n",
    "            # V(s') = V(s') + \\alpha ( r_next + V(s'_next) - V(s') )\n",
    "            # v =  reward__ + self.getValue(next_game__.tile) - self.getValue(s_)\n",
    "            # self.setValue(s_, lr * v)"
   ]
  },
  {
   "cell_type": "code",
   "execution_count": 404,
   "metadata": {},
   "outputs": [],
   "source": [
    "class Agent():\n",
    "    def __init__(self, patterns, maxnum):\n",
    "        self.Tuples = []\n",
    "        for p in patterns:\n",
    "            self.Tuples.append(TuplesNet(p, maxnum))\n",
    "        self.metrics = []\n",
    "        \n",
    "    def getValue(self, tile):\n",
    "        V = [t.getValue(tile) for t in self.Tuples]\n",
    "        \n",
    "        # get average\n",
    "        V = sum(V)\n",
    "        #V = sum(V) / len(V)\n",
    "        \n",
    "        return V\n",
    "    \n",
    "    def setValue(self, tile, v, reset=False):\n",
    "        v /= len(self.Tuples)\n",
    "        V = 0.0\n",
    "        for t in self.Tuples:\n",
    "            V += t.setValue(tile, v, reset)\n",
    "        return V\n",
    "    \n",
    "    # get all s'\n",
    "    def evaulate(self, next_games):\n",
    "        # TD(0)-after\n",
    "        #  r + V(s')\n",
    "        return [ng[1] + self.getValue(ng[0].tile) for ng in next_games]\n",
    "    \n",
    "    def learn(self, records, lr):\n",
    "        \n",
    "        exact = 0.0\n",
    "        \n",
    "        # exact = records[0][2]\n",
    "        # records[0:] ignore terminate, s' can't be s''\n",
    "        \n",
    "        # learn from end to begin\n",
    "        # records = [end .... begin]\n",
    "        # (s, a, r, s', s'')\n",
    "        for s, a, r, s_, s__ in records: \n",
    "            # TD(0)-after\n",
    "            \n",
    "            # V(s') = V(s') + \\alpha ( r_next + V(s'_next) - V(s') )\n",
    "            error = exact - self.getValue(s_)\n",
    "            exact = r + self.setValue(s_, lr*error)\n",
    "            \n",
    "            # from c++ impelement\n",
    "            # V(s') = V(s) - r ?\n",
    "            # error = exact - (self.getValue(s) - r)\n",
    "            # exact = r + self.setValue(s_, lr*error)\n",
    "            \n",
    "    def showStattistic(self, epoch, unit):\n",
    "        metrics = np.array(self.metrics[-unit:])\n",
    "        \n",
    "        # get average score\n",
    "        score_mean = np.mean(metrics[:, 0])\n",
    "        # get max score\n",
    "        score_max = np.max(metrics[:, 0])\n",
    "        \n",
    "        print('{:<8d}mean = {:<8.0f} max = {:<8.0f}'.format(epoch, score_mean, score_max))\n",
    "        \n",
    "        if (metrics.shape[1] < 3):\n",
    "            return\n",
    "        \n",
    "        # all end game board\n",
    "        end_games = metrics[:, 2]\n",
    "        \n",
    "        reach_nums = np.array([1<<max(end) & -2 for end in end_games])\n",
    "                  \n",
    "        print('\\n')    \n",
    "        \n",
    "        for num in np.sort(np.unique(reach_nums)):\n",
    "            # count how many game over this num\n",
    "            reachs = np.count_nonzero(reach_nums >= num)\n",
    "            \n",
    "            # count how many game end at this num\n",
    "            ends = np.count_nonzero(reach_nums == num)\n",
    "            \n",
    "            print('{:<5d}  {:3.1f} % ({:3.1f} %)'.format(num, (reachs*100)/len(metrics), (ends*100)/len(metrics)))\n",
    "        \n",
    "        return\n",
    "    \n",
    "    def train(self, epoch_size, lr=0.1, showsize=1000):\n",
    "        start_epoch = len(self.metrics)\n",
    "        for epoch in range(start_epoch, epoch_size):\n",
    "            # init score and env (2048)\n",
    "            score = 0.0\n",
    "            game = board().popup().popup()\n",
    "            records = []\n",
    "            while True:\n",
    "                # choose action\n",
    "                next_games = [game.up(), game.down(), game.left(), game.right()]\n",
    "                action = np.argmax(self.evaulate(next_games))\n",
    "                \n",
    "                # do action\n",
    "                # s'\n",
    "                next_game, reward = next_games[action]\n",
    "                \n",
    "                # save record (s, a, r, s')\n",
    "                # records.insert(0, (game.tile, action, reward, next_game.tile) )\n",
    "                \n",
    "                # game is same as before, end game\n",
    "                #if reward == -1:\n",
    "                if game.end():\n",
    "                    break\n",
    "                \n",
    "                # s''\n",
    "                next_game_after = next_game.popup()\n",
    "                \n",
    "                score += reward\n",
    "                \n",
    "                # save record (s, a, r, s', s'')\n",
    "                records.insert(0, (game.tile, action, reward, next_game.tile, next_game_after.tile) )\n",
    "                # records.insert(0, (game.tile, action, score, next_game.tile, next_game_after.tile) )\n",
    "                \n",
    "                # s = s'' update state\n",
    "                game = next_game_after\n",
    "                \n",
    "            #self.learn(records, lr / len(self.Tuples))\n",
    "            self.learn(records, lr)\n",
    "            \n",
    "            # store score, game len, end game board\n",
    "            self.metrics.append( (score, len(records), game.tile) )\n",
    "            if (epoch+1) % showsize == 0:\n",
    "                self.showStattistic(epoch+1, showsize)\n",
    "            #if True:\n",
    "                #print('[{:6d}] l : {:2d}, score : {:4.0f}, status : {}'.format(epoch, len(records), score, showstatus(game)))\n",
    "            clear_output(wait=True)"
   ]
  },
  {
   "cell_type": "code",
   "execution_count": 405,
   "metadata": {},
   "outputs": [],
   "source": [
    "MAX_NUM = 12 # 1<<12 == 4096\n",
    "TUPLE_NUM = 6 # 6-tuples\n",
    "PATTERN_NUM = 4\n",
    "ACTION_NUM = 4 # up, down, left, right\n",
    "\n",
    "PATTERNS = [\n",
    "    [0,1,2,3,4,5],\n",
    "    [4,5,6,7,8,9],\n",
    "    [0,1,2,4,5,6],\n",
    "    [4,5,6,8,9,10]\n",
    "]"
   ]
  },
  {
   "cell_type": "code",
   "execution_count": 417,
   "metadata": {},
   "outputs": [],
   "source": [
    "random.seed(756110)\n",
    "agent = Agent(PATTERNS, MAX_NUM)"
   ]
  },
  {
   "cell_type": "code",
   "execution_count": null,
   "metadata": {},
   "outputs": [],
   "source": [
    "%%time\n",
    "agent.train(10000)"
   ]
  },
  {
   "cell_type": "code",
   "execution_count": null,
   "metadata": {},
   "outputs": [],
   "source": []
  },
  {
   "cell_type": "code",
   "execution_count": null,
   "metadata": {},
   "outputs": [],
   "source": []
  },
  {
   "cell_type": "code",
   "execution_count": 419,
   "metadata": {},
   "outputs": [
    {
     "name": "stdout",
     "output_type": "stream",
     "text": [
      "999     mean = 4058     max = 16498   \n",
      "\n",
      "\n",
      "32     100.0 % (0.4 %)\n",
      "64     99.6 % (5.0 %)\n",
      "128    94.6 % (20.8 %)\n",
      "256    73.8 % (41.8 %)\n",
      "512    32.0 % (29.7 %)\n",
      "1024   2.3 % (2.3 %)\n"
     ]
    }
   ],
   "source": [
    "agent.showStattistic(999, 1000)"
   ]
  },
  {
   "cell_type": "code",
   "execution_count": null,
   "metadata": {},
   "outputs": [],
   "source": []
  },
  {
   "cell_type": "code",
   "execution_count": 322,
   "metadata": {},
   "outputs": [],
   "source": [
    "def showCurve(metrics):\n",
    "    metrics = np.array(metrics).reshape(len(metrics), -1)\n",
    "\n",
    "    plt.figure(figsize=(12,4))\n",
    "    plt.plot(metrics[:,0], label='score')"
   ]
  },
  {
   "cell_type": "code",
   "execution_count": 347,
   "metadata": {},
   "outputs": [
    {
     "data": {
      "image/png": "[encoded data removed]",
      "text/plain": [
       "<Figure size 864x288 with 1 Axes>"
      ]
     },
     "metadata": {
      "needs_background": "light"
     },
     "output_type": "display_data"
    }
   ],
   "source": [
    "showCurve(agent.metrics)"
   ]
  },
  {
   "cell_type": "code",
   "execution_count": null,
   "metadata": {},
   "outputs": [],
   "source": []
  },
  {
   "cell_type": "code",
   "execution_count": null,
   "metadata": {},
   "outputs": [],
   "source": [
    "def saveAgent(agent, fileName):\n",
    "    with open(fileName, 'wb') as f:\n",
    "        pickle.dump(agent, f)\n",
    "    return fileName\n",
    "    \n",
    "def loadAgent(fileName):\n",
    "    with open(fileName, 'rb') as f:\n",
    "        agent = pickle.load(f)\n",
    "    return agent"
   ]
  }
 ],
 "metadata": {
  "kernelspec": {
   "display_name": "Python 3",
   "language": "python",
   "name": "python3"
  },
  "language_info": {
   "codemirror_mode": {
    "name": "ipython",
    "version": 3
   },
   "file_extension": ".py",
   "mimetype": "text/x-python",
   "name": "python",
   "nbconvert_exporter": "python",
   "pygments_lexer": "ipython3",
   "version": "3.6.8"
  }
 },
 "nbformat": 4,
 "nbformat_minor": 2
}
